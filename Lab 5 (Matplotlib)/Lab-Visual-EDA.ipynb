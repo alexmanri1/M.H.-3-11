{
 "cells": [
  {
   "cell_type": "markdown",
   "metadata": {},
   "source": [
    "# ВІЗУАЛІЗАЦІЯ ДАНИХ"
   ]
  },
  {
   "cell_type": "markdown",
   "metadata": {},
   "source": [
    "### ТЕОРЕТИЧНА ЧАСТИНА ТА ПРИКЛАДИ"
   ]
  },
  {
   "cell_type": "markdown",
   "metadata": {},
   "source": [
    "[EDA](https://ru.wikipedia.org/wiki/Разведочный_анализ_данных) - розвідувательний (дослідницький) аналіз даних - це технологія, яка межує з технологіями __Data Mining__ та __Data Science__.\n",
    "\n",
    "Інструментальні засоби EDA призначені для швидкого та наглядного відображення статистичних властивостей даних, що отримані на попередніх етапах Data Mining.\n",
    "\n",
    "Існують високорівневі засоби EDA:\n",
    "- [IDE RStudio](https://www.r-studio.com/ru/), \n",
    "- [RapidMiner](https://rapidminer.com/get-started/),\n",
    "- [MATLAB](https://www.mathworks.com/products/matlab.html) та ін.;\n",
    "\n",
    "Python-бібліотеки з відкритим кодом:\n",
    "- [SeaBorn](https://seaborn.pydata.org)\n",
    "- [Sweetviz](https://pypi.org/project/sweetviz/)\n",
    "- [Pandas-profiling](https://pandas-profiling.github.io/pandas-profiling/docs/master/rtd/) \n",
    "та деякі менш розповсюджені\n",
    "\n",
    "\n",
    "В основі більшості з вищезгаданих технологій лежіть бібліотека візуалізації даних [Matplotlib](https://ru.wikipedia.org/wiki/Matplotlib) яка тісно пов'язана з датасетами _Pandas_ та масивами _NumPy_\n",
    "\n",
    "[__Matplotlib__](https://matplotlib.org) - це низькорівнева графічна бібліотека для python з [відкритим кодом](https://github.com/matplotlib/matplotlib) написана на python, частково на _C_, _objective-C_ та _javascript_."
   ]
  },
  {
   "cell_type": "code",
   "execution_count": 1,
   "metadata": {},
   "outputs": [
    {
     "name": "stderr",
     "output_type": "stream",
     "text": [
      "\"grep\" не является внутренней или внешней\n",
      "командой, исполняемой программой или пакетным файлом.\n"
     ]
    }
   ],
   "source": [
    "# перевіримо наявність бібліотеки matplotlib\n",
    "!pip list | grep matplot"
   ]
  },
  {
   "cell_type": "code",
   "execution_count": 2,
   "metadata": {},
   "outputs": [
    {
     "name": "stdout",
     "output_type": "stream",
     "text": [
      "Requirement already satisfied: matplotlib in c:\\files\\anaconda\\lib\\site-packages (3.5.2)\n",
      "Requirement already satisfied: pyparsing>=2.2.1 in c:\\files\\anaconda\\lib\\site-packages (from matplotlib) (3.0.9)\n",
      "Requirement already satisfied: numpy>=1.17 in c:\\files\\anaconda\\lib\\site-packages (from matplotlib) (1.21.5)\n",
      "Requirement already satisfied: kiwisolver>=1.0.1 in c:\\files\\anaconda\\lib\\site-packages (from matplotlib) (1.4.2)\n",
      "Requirement already satisfied: packaging>=20.0 in c:\\files\\anaconda\\lib\\site-packages (from matplotlib) (21.3)\n",
      "Requirement already satisfied: cycler>=0.10 in c:\\files\\anaconda\\lib\\site-packages (from matplotlib) (0.11.0)\n",
      "Requirement already satisfied: python-dateutil>=2.7 in c:\\files\\anaconda\\lib\\site-packages (from matplotlib) (2.8.2)\n",
      "Requirement already satisfied: fonttools>=4.22.0 in c:\\files\\anaconda\\lib\\site-packages (from matplotlib) (4.25.0)\n",
      "Requirement already satisfied: pillow>=6.2.0 in c:\\files\\anaconda\\lib\\site-packages (from matplotlib) (9.2.0)\n",
      "Requirement already satisfied: six>=1.5 in c:\\files\\anaconda\\lib\\site-packages (from python-dateutil>=2.7->matplotlib) (1.16.0)\n"
     ]
    }
   ],
   "source": [
    "# якщо її немає на комп'ютері, то встановимо\n",
    "!pip install matplotlib"
   ]
  },
  {
   "cell_type": "code",
   "execution_count": 3,
   "metadata": {},
   "outputs": [],
   "source": [
    "# підключення бібліотеки \n",
    "import matplotlib"
   ]
  },
  {
   "cell_type": "code",
   "execution_count": 4,
   "metadata": {},
   "outputs": [],
   "source": [
    "# основним об'єктом в `matplotlib` є `plot` що розташований в модулі `pyplot`\n",
    "from matplotlib import pyplot as plt"
   ]
  },
  {
   "cell_type": "code",
   "execution_count": 5,
   "metadata": {},
   "outputs": [
    {
     "data": {
      "image/png": "[encoded data removed]",
      "text/plain": [
       "<Figure size 640x480 with 1 Axes>"
      ]
     },
     "metadata": {},
     "output_type": "display_data"
    }
   ],
   "source": [
    "import numpy as np\n",
    "ypoints = np.array([1, 8, 1, 10])\n",
    "\n",
    "plt.plot(ypoints, marker = '+')\n",
    "plt.title(\"Приклад\")\n",
    "plt.show()"
   ]
  },
  {
   "cell_type": "markdown",
   "metadata": {},
   "source": [
    "### ПРИКЛАД ПОШУКУ АНОМАЛІЙ ТА ВІДНОВЛЕННЯ ДАНИХ\n",
    "\n",
    "Оцінити та поліпшити якість даних про продаж нерухомості, які накопичені в файлі `aprt_properties.csv`\n"
   ]
  },
  {
   "cell_type": "markdown",
   "metadata": {},
   "source": [
    "Приведення даних до якості наобхідної для подальшого використання в моделях ML складається з декількох етапів:\n",
    "1. _Оцінка структури_ - визначення показчиків, які мають сенс в данному контексті та вилучення тих, що не є необхідними.\n",
    "2. _Приведення типів_ показчиків до придатності проведення чисельного аналізу та моделювання\n",
    "3. _Відновлення пропущених даних (missing data recovery)_ - застосування методів, які дозволяють відновити дані в яких відсутні значення (NaN, None, Null, '', ...)\n",
    "4. _Виявленя аномалій (outliers detection)_ - показчиків, значення яких не є допустимим в контексті аналізу."
   ]
  },
  {
   "cell_type": "code",
   "execution_count": 6,
   "metadata": {},
   "outputs": [
    {
     "name": "stdout",
     "output_type": "stream",
     "text": [
      "Object `pd.set_option` not found.\n"
     ]
    }
   ],
   "source": [
    "pd.set_option?"
   ]
  },
  {
   "cell_type": "code",
   "execution_count": 7,
   "metadata": {},
   "outputs": [],
   "source": [
    "import pandas as pd\n",
    "import numpy as np\n",
    "\n",
    "pd.set_option(\"display.float_format\", '{:.1f}'.format)"
   ]
  },
  {
   "cell_type": "code",
   "execution_count": 10,
   "metadata": {
    "code_folding": []
   },
   "outputs": [
    {
     "data": {
      "text/html": [
       "<div>\n",
       "<style scoped>\n",
       "    .dataframe tbody tr th:only-of-type {\n",
       "        vertical-align: middle;\n",
       "    }\n",
       "\n",
       "    .dataframe tbody tr th {\n",
       "        vertical-align: top;\n",
       "    }\n",
       "\n",
       "    .dataframe thead th {\n",
       "        text-align: right;\n",
       "    }\n",
       "</style>\n",
       "<table border=\"1\" class=\"dataframe\">\n",
       "  <thead>\n",
       "    <tr style=\"text-align: right;\">\n",
       "      <th></th>\n",
       "      <th>ціна</th>\n",
       "      <th>кімнат</th>\n",
       "      <th>ціна за метр</th>\n",
       "      <th>поверх</th>\n",
       "      <th>всього поверхів</th>\n",
       "      <th>рік збудови</th>\n",
       "      <th>площа</th>\n",
       "      <th>житлова площа</th>\n",
       "      <th>кухня</th>\n",
       "      <th>вулиця</th>\n",
       "      <th>дата пропозиції</th>\n",
       "    </tr>\n",
       "  </thead>\n",
       "  <tbody>\n",
       "    <tr>\n",
       "      <th>0</th>\n",
       "      <td>Price</td>\n",
       "      <td>rooms</td>\n",
       "      <td>price_per_m2</td>\n",
       "      <td>level</td>\n",
       "      <td>levels</td>\n",
       "      <td>year</td>\n",
       "      <td>area_total</td>\n",
       "      <td>area_living</td>\n",
       "      <td>area_kitchen</td>\n",
       "      <td>street</td>\n",
       "      <td>publish_date</td>\n",
       "    </tr>\n",
       "    <tr>\n",
       "      <th>1</th>\n",
       "      <td>140000.0</td>\n",
       "      <td>2</td>\n",
       "      <td>2258.0</td>\n",
       "      <td>7</td>\n",
       "      <td>9</td>\n",
       "      <td>1969</td>\n",
       "      <td>62.0</td>\n",
       "      <td>47.0</td>\n",
       "      <td>9.0</td>\n",
       "      <td>Омеляновича-Павленка</td>\n",
       "      <td>3 вересня 2020 р.</td>\n",
       "    </tr>\n",
       "    <tr>\n",
       "      <th>2</th>\n",
       "      <td>105000.0</td>\n",
       "      <td>4</td>\n",
       "      <td>847.0</td>\n",
       "      <td>25</td>\n",
       "      <td>26</td>\n",
       "      <td>2018</td>\n",
       "      <td>124.0</td>\n",
       "      <td>71.0</td>\n",
       "      <td>16.0</td>\n",
       "      <td>NaN</td>\n",
       "      <td>7 жовтня 2020 р.</td>\n",
       "    </tr>\n",
       "    <tr>\n",
       "      <th>3</th>\n",
       "      <td>175000.0</td>\n",
       "      <td>3</td>\n",
       "      <td>1786.0</td>\n",
       "      <td>25</td>\n",
       "      <td>26</td>\n",
       "      <td>2010</td>\n",
       "      <td>98.0</td>\n",
       "      <td>None</td>\n",
       "      <td>None</td>\n",
       "      <td>Ованеса Туманяна</td>\n",
       "      <td>1 жовтня 2020 р.</td>\n",
       "    </tr>\n",
       "    <tr>\n",
       "      <th>4</th>\n",
       "      <td>30970.0</td>\n",
       "      <td>1</td>\n",
       "      <td>1106.0</td>\n",
       "      <td>12</td>\n",
       "      <td>13</td>\n",
       "      <td>2013</td>\n",
       "      <td>28.0</td>\n",
       "      <td>13.0</td>\n",
       "      <td>5.0</td>\n",
       "      <td>Петропавлівська</td>\n",
       "      <td>1 лютого</td>\n",
       "    </tr>\n",
       "    <tr>\n",
       "      <th>...</th>\n",
       "      <td>...</td>\n",
       "      <td>...</td>\n",
       "      <td>...</td>\n",
       "      <td>...</td>\n",
       "      <td>...</td>\n",
       "      <td>...</td>\n",
       "      <td>...</td>\n",
       "      <td>...</td>\n",
       "      <td>...</td>\n",
       "      <td>...</td>\n",
       "      <td>...</td>\n",
       "    </tr>\n",
       "    <tr>\n",
       "      <th>724</th>\n",
       "      <td>49990.0</td>\n",
       "      <td>3</td>\n",
       "      <td>757.0</td>\n",
       "      <td>8</td>\n",
       "      <td>9</td>\n",
       "      <td>1976</td>\n",
       "      <td>66.0</td>\n",
       "      <td>45.0</td>\n",
       "      <td>8.0</td>\n",
       "      <td>Наумова</td>\n",
       "      <td>14 квітня 2020 р.</td>\n",
       "    </tr>\n",
       "    <tr>\n",
       "      <th>725</th>\n",
       "      <td>89000.0</td>\n",
       "      <td>1</td>\n",
       "      <td>2342.0</td>\n",
       "      <td>7</td>\n",
       "      <td>15</td>\n",
       "      <td>None</td>\n",
       "      <td>38.0</td>\n",
       "      <td>20.0</td>\n",
       "      <td>7.0</td>\n",
       "      <td>Перемоги</td>\n",
       "      <td>*** not found</td>\n",
       "    </tr>\n",
       "    <tr>\n",
       "      <th>726</th>\n",
       "      <td>170000.0</td>\n",
       "      <td>2</td>\n",
       "      <td>2656.0</td>\n",
       "      <td>5</td>\n",
       "      <td>7</td>\n",
       "      <td>1948</td>\n",
       "      <td>64.0</td>\n",
       "      <td>None</td>\n",
       "      <td>9.0</td>\n",
       "      <td>Велика Васильківська</td>\n",
       "      <td>6 березня 2019 р.</td>\n",
       "    </tr>\n",
       "    <tr>\n",
       "      <th>727</th>\n",
       "      <td>29256.6</td>\n",
       "      <td>1</td>\n",
       "      <td>978.5</td>\n",
       "      <td>1</td>\n",
       "      <td>5</td>\n",
       "      <td>None</td>\n",
       "      <td>None</td>\n",
       "      <td>None</td>\n",
       "      <td>None</td>\n",
       "      <td>Червоноткацька</td>\n",
       "      <td>*** not found</td>\n",
       "    </tr>\n",
       "    <tr>\n",
       "      <th>728</th>\n",
       "      <td>46500.0</td>\n",
       "      <td>2</td>\n",
       "      <td>1011.0</td>\n",
       "      <td>5</td>\n",
       "      <td>5</td>\n",
       "      <td>1963</td>\n",
       "      <td>46.0</td>\n",
       "      <td>31.0</td>\n",
       "      <td>7.0</td>\n",
       "      <td>Вишгородська</td>\n",
       "      <td>24 лютого</td>\n",
       "    </tr>\n",
       "  </tbody>\n",
       "</table>\n",
       "<p>729 rows × 11 columns</p>\n",
       "</div>"
      ],
      "text/plain": [
       "         ціна кімнат  ціна за метр поверх всього поверхів рік збудови  \\\n",
       "0       Price  rooms  price_per_m2  level          levels        year   \n",
       "1    140000.0      2        2258.0      7               9        1969   \n",
       "2    105000.0      4         847.0     25              26        2018   \n",
       "3    175000.0      3        1786.0     25              26        2010   \n",
       "4     30970.0      1        1106.0     12              13        2013   \n",
       "..        ...    ...           ...    ...             ...         ...   \n",
       "724   49990.0      3         757.0      8               9        1976   \n",
       "725   89000.0      1        2342.0      7              15        None   \n",
       "726  170000.0      2        2656.0      5               7        1948   \n",
       "727   29256.6      1         978.5      1               5        None   \n",
       "728   46500.0      2        1011.0      5               5        1963   \n",
       "\n",
       "          площа житлова площа         кухня                вулиця  \\\n",
       "0    area_total   area_living  area_kitchen                street   \n",
       "1          62.0          47.0           9.0  Омеляновича-Павленка   \n",
       "2         124.0          71.0          16.0                   NaN   \n",
       "3          98.0          None          None      Ованеса Туманяна   \n",
       "4          28.0          13.0           5.0       Петропавлівська   \n",
       "..          ...           ...           ...                   ...   \n",
       "724        66.0          45.0           8.0               Наумова   \n",
       "725        38.0          20.0           7.0              Перемоги   \n",
       "726        64.0          None           9.0  Велика Васильківська   \n",
       "727        None          None          None        Червоноткацька   \n",
       "728        46.0          31.0           7.0          Вишгородська   \n",
       "\n",
       "       дата пропозиції  \n",
       "0         publish_date  \n",
       "1    3 вересня 2020 р.  \n",
       "2     7 жовтня 2020 р.  \n",
       "3     1 жовтня 2020 р.  \n",
       "4             1 лютого  \n",
       "..                 ...  \n",
       "724  14 квітня 2020 р.  \n",
       "725      *** not found  \n",
       "726  6 березня 2019 р.  \n",
       "727      *** not found  \n",
       "728          24 лютого  \n",
       "\n",
       "[729 rows x 11 columns]"
      ]
     },
     "execution_count": 10,
     "metadata": {},
     "output_type": "execute_result"
    }
   ],
   "source": [
    "# створюємо датафрейм та завантажуємо в нього csv-файл \n",
    "aprt = pd.read_csv('apartments.csv', \n",
    "                    names=['ціна', \n",
    "                           'кімнат', \n",
    "                           'ціна за метр',\n",
    "                           'поверх',\n",
    "                           'всього поверхів',\n",
    "                           'рік збудови',\n",
    "                           'площа',\n",
    "                           'житлова площа',\n",
    "                           'кухня',\n",
    "                           'вулиця',\n",
    "                           'дата пропозиції'],\n",
    "                   index_col = False,\n",
    "                  )\n",
    "aprt"
   ]
  },
  {
   "cell_type": "markdown",
   "metadata": {},
   "source": [
    "#### загальна інформація проо дані"
   ]
  },
  {
   "cell_type": "code",
   "execution_count": 11,
   "metadata": {},
   "outputs": [
    {
     "data": {
      "text/html": [
       "<div>\n",
       "<style scoped>\n",
       "    .dataframe tbody tr th:only-of-type {\n",
       "        vertical-align: middle;\n",
       "    }\n",
       "\n",
       "    .dataframe tbody tr th {\n",
       "        vertical-align: top;\n",
       "    }\n",
       "\n",
       "    .dataframe thead th {\n",
       "        text-align: right;\n",
       "    }\n",
       "</style>\n",
       "<table border=\"1\" class=\"dataframe\">\n",
       "  <thead>\n",
       "    <tr style=\"text-align: right;\">\n",
       "      <th></th>\n",
       "      <th>ціна</th>\n",
       "      <th>кімнат</th>\n",
       "      <th>ціна за метр</th>\n",
       "      <th>поверх</th>\n",
       "      <th>всього поверхів</th>\n",
       "      <th>рік збудови</th>\n",
       "      <th>площа</th>\n",
       "      <th>житлова площа</th>\n",
       "      <th>кухня</th>\n",
       "      <th>вулиця</th>\n",
       "      <th>дата пропозиції</th>\n",
       "    </tr>\n",
       "  </thead>\n",
       "  <tbody>\n",
       "    <tr>\n",
       "      <th>0</th>\n",
       "      <td>Price</td>\n",
       "      <td>rooms</td>\n",
       "      <td>price_per_m2</td>\n",
       "      <td>level</td>\n",
       "      <td>levels</td>\n",
       "      <td>year</td>\n",
       "      <td>area_total</td>\n",
       "      <td>area_living</td>\n",
       "      <td>area_kitchen</td>\n",
       "      <td>street</td>\n",
       "      <td>publish_date</td>\n",
       "    </tr>\n",
       "    <tr>\n",
       "      <th>1</th>\n",
       "      <td>140000.0</td>\n",
       "      <td>2</td>\n",
       "      <td>2258.0</td>\n",
       "      <td>7</td>\n",
       "      <td>9</td>\n",
       "      <td>1969</td>\n",
       "      <td>62.0</td>\n",
       "      <td>47.0</td>\n",
       "      <td>9.0</td>\n",
       "      <td>Омеляновича-Павленка</td>\n",
       "      <td>3 вересня 2020 р.</td>\n",
       "    </tr>\n",
       "    <tr>\n",
       "      <th>2</th>\n",
       "      <td>105000.0</td>\n",
       "      <td>4</td>\n",
       "      <td>847.0</td>\n",
       "      <td>25</td>\n",
       "      <td>26</td>\n",
       "      <td>2018</td>\n",
       "      <td>124.0</td>\n",
       "      <td>71.0</td>\n",
       "      <td>16.0</td>\n",
       "      <td>NaN</td>\n",
       "      <td>7 жовтня 2020 р.</td>\n",
       "    </tr>\n",
       "    <tr>\n",
       "      <th>3</th>\n",
       "      <td>175000.0</td>\n",
       "      <td>3</td>\n",
       "      <td>1786.0</td>\n",
       "      <td>25</td>\n",
       "      <td>26</td>\n",
       "      <td>2010</td>\n",
       "      <td>98.0</td>\n",
       "      <td>None</td>\n",
       "      <td>None</td>\n",
       "      <td>Ованеса Туманяна</td>\n",
       "      <td>1 жовтня 2020 р.</td>\n",
       "    </tr>\n",
       "    <tr>\n",
       "      <th>4</th>\n",
       "      <td>30970.0</td>\n",
       "      <td>1</td>\n",
       "      <td>1106.0</td>\n",
       "      <td>12</td>\n",
       "      <td>13</td>\n",
       "      <td>2013</td>\n",
       "      <td>28.0</td>\n",
       "      <td>13.0</td>\n",
       "      <td>5.0</td>\n",
       "      <td>Петропавлівська</td>\n",
       "      <td>1 лютого</td>\n",
       "    </tr>\n",
       "  </tbody>\n",
       "</table>\n",
       "</div>"
      ],
      "text/plain": [
       "       ціна кімнат  ціна за метр поверх всього поверхів рік збудови  \\\n",
       "0     Price  rooms  price_per_m2  level          levels        year   \n",
       "1  140000.0      2        2258.0      7               9        1969   \n",
       "2  105000.0      4         847.0     25              26        2018   \n",
       "3  175000.0      3        1786.0     25              26        2010   \n",
       "4   30970.0      1        1106.0     12              13        2013   \n",
       "\n",
       "        площа житлова площа         кухня                вулиця  \\\n",
       "0  area_total   area_living  area_kitchen                street   \n",
       "1        62.0          47.0           9.0  Омеляновича-Павленка   \n",
       "2       124.0          71.0          16.0                   NaN   \n",
       "3        98.0          None          None      Ованеса Туманяна   \n",
       "4        28.0          13.0           5.0       Петропавлівська   \n",
       "\n",
       "     дата пропозиції  \n",
       "0       publish_date  \n",
       "1  3 вересня 2020 р.  \n",
       "2   7 жовтня 2020 р.  \n",
       "3   1 жовтня 2020 р.  \n",
       "4           1 лютого  "
      ]
     },
     "execution_count": 11,
     "metadata": {},
     "output_type": "execute_result"
    }
   ],
   "source": [
    "# вивести 5 перших рядків датасету\n",
    "aprt.head(5)"
   ]
  },
  {
   "cell_type": "code",
   "execution_count": 12,
   "metadata": {},
   "outputs": [
    {
     "name": "stdout",
     "output_type": "stream",
     "text": [
      "<class 'pandas.core.frame.DataFrame'>\n",
      "RangeIndex: 729 entries, 0 to 728\n",
      "Data columns (total 11 columns):\n",
      " #   Column           Non-Null Count  Dtype \n",
      "---  ------           --------------  ----- \n",
      " 0   ціна             729 non-null    object\n",
      " 1   кімнат           729 non-null    object\n",
      " 2   ціна за метр     729 non-null    object\n",
      " 3   поверх           729 non-null    object\n",
      " 4   всього поверхів  729 non-null    object\n",
      " 5   рік збудови      729 non-null    object\n",
      " 6   площа            729 non-null    object\n",
      " 7   житлова площа    729 non-null    object\n",
      " 8   кухня            729 non-null    object\n",
      " 9   вулиця           716 non-null    object\n",
      " 10  дата пропозиції  729 non-null    object\n",
      "dtypes: object(11)\n",
      "memory usage: 62.8+ KB\n"
     ]
    }
   ],
   "source": [
    "# оцінка типів показчиків\n",
    "aprt.info()"
   ]
  },
  {
   "cell_type": "code",
   "execution_count": 13,
   "metadata": {},
   "outputs": [
    {
     "data": {
      "text/plain": [
       "Index(['ціна', 'кімнат', 'ціна за метр', 'поверх', 'всього поверхів',\n",
       "       'рік збудови', 'площа', 'житлова площа', 'кухня', 'вулиця',\n",
       "       'дата пропозиції'],\n",
       "      dtype='object')"
      ]
     },
     "execution_count": 13,
     "metadata": {},
     "output_type": "execute_result"
    }
   ],
   "source": [
    "# перелік колонок датасета\n",
    "aprt.columns"
   ]
  },
  {
   "cell_type": "code",
   "execution_count": 14,
   "metadata": {},
   "outputs": [],
   "source": [
    "# вилучення непотрібних колонок\n",
    "aprt.drop(columns=['вулиця','дата пропозиції'], inplace=True)"
   ]
  },
  {
   "cell_type": "code",
   "execution_count": 15,
   "metadata": {},
   "outputs": [
    {
     "data": {
      "text/html": [
       "<div>\n",
       "<style scoped>\n",
       "    .dataframe tbody tr th:only-of-type {\n",
       "        vertical-align: middle;\n",
       "    }\n",
       "\n",
       "    .dataframe tbody tr th {\n",
       "        vertical-align: top;\n",
       "    }\n",
       "\n",
       "    .dataframe thead th {\n",
       "        text-align: right;\n",
       "    }\n",
       "</style>\n",
       "<table border=\"1\" class=\"dataframe\">\n",
       "  <thead>\n",
       "    <tr style=\"text-align: right;\">\n",
       "      <th></th>\n",
       "      <th>ціна</th>\n",
       "      <th>кімнат</th>\n",
       "      <th>ціна за метр</th>\n",
       "      <th>поверх</th>\n",
       "      <th>всього поверхів</th>\n",
       "      <th>рік збудови</th>\n",
       "      <th>площа</th>\n",
       "      <th>житлова площа</th>\n",
       "      <th>кухня</th>\n",
       "    </tr>\n",
       "  </thead>\n",
       "  <tbody>\n",
       "    <tr>\n",
       "      <th>0</th>\n",
       "      <td>Price</td>\n",
       "      <td>rooms</td>\n",
       "      <td>price_per_m2</td>\n",
       "      <td>level</td>\n",
       "      <td>levels</td>\n",
       "      <td>year</td>\n",
       "      <td>area_total</td>\n",
       "      <td>area_living</td>\n",
       "      <td>area_kitchen</td>\n",
       "    </tr>\n",
       "    <tr>\n",
       "      <th>1</th>\n",
       "      <td>140000.0</td>\n",
       "      <td>2</td>\n",
       "      <td>2258.0</td>\n",
       "      <td>7</td>\n",
       "      <td>9</td>\n",
       "      <td>1969</td>\n",
       "      <td>62.0</td>\n",
       "      <td>47.0</td>\n",
       "      <td>9.0</td>\n",
       "    </tr>\n",
       "    <tr>\n",
       "      <th>2</th>\n",
       "      <td>105000.0</td>\n",
       "      <td>4</td>\n",
       "      <td>847.0</td>\n",
       "      <td>25</td>\n",
       "      <td>26</td>\n",
       "      <td>2018</td>\n",
       "      <td>124.0</td>\n",
       "      <td>71.0</td>\n",
       "      <td>16.0</td>\n",
       "    </tr>\n",
       "  </tbody>\n",
       "</table>\n",
       "</div>"
      ],
      "text/plain": [
       "       ціна кімнат  ціна за метр поверх всього поверхів рік збудови  \\\n",
       "0     Price  rooms  price_per_m2  level          levels        year   \n",
       "1  140000.0      2        2258.0      7               9        1969   \n",
       "2  105000.0      4         847.0     25              26        2018   \n",
       "\n",
       "        площа житлова площа         кухня  \n",
       "0  area_total   area_living  area_kitchen  \n",
       "1        62.0          47.0           9.0  \n",
       "2       124.0          71.0          16.0  "
      ]
     },
     "execution_count": 15,
     "metadata": {},
     "output_type": "execute_result"
    }
   ],
   "source": [
    "aprt.head(3)"
   ]
  },
  {
   "cell_type": "markdown",
   "metadata": {},
   "source": [
    "#### перетворення типів показчиків"
   ]
  },
  {
   "cell_type": "code",
   "execution_count": 16,
   "metadata": {},
   "outputs": [
    {
     "data": {
      "text/plain": [
       "Index(['ціна', 'кімнат', 'ціна за метр', 'поверх', 'всього поверхів',\n",
       "       'рік збудови', 'площа', 'житлова площа', 'кухня'],\n",
       "      dtype='object')"
      ]
     },
     "execution_count": 16,
     "metadata": {},
     "output_type": "execute_result"
    }
   ],
   "source": [
    "aprt.columns"
   ]
  },
  {
   "cell_type": "code",
   "execution_count": 17,
   "metadata": {},
   "outputs": [],
   "source": [
    "pd.to_numeric?"
   ]
  },
  {
   "cell_type": "code",
   "execution_count": 18,
   "metadata": {},
   "outputs": [],
   "source": [
    "for prop in aprt.columns:\n",
    "    aprt[prop] = pd.to_numeric(aprt[prop], errors='coerce')"
   ]
  },
  {
   "cell_type": "code",
   "execution_count": 19,
   "metadata": {
    "scrolled": true
   },
   "outputs": [
    {
     "data": {
      "text/html": [
       "<div>\n",
       "<style scoped>\n",
       "    .dataframe tbody tr th:only-of-type {\n",
       "        vertical-align: middle;\n",
       "    }\n",
       "\n",
       "    .dataframe tbody tr th {\n",
       "        vertical-align: top;\n",
       "    }\n",
       "\n",
       "    .dataframe thead th {\n",
       "        text-align: right;\n",
       "    }\n",
       "</style>\n",
       "<table border=\"1\" class=\"dataframe\">\n",
       "  <thead>\n",
       "    <tr style=\"text-align: right;\">\n",
       "      <th></th>\n",
       "      <th>ціна</th>\n",
       "      <th>кімнат</th>\n",
       "      <th>ціна за метр</th>\n",
       "      <th>поверх</th>\n",
       "      <th>всього поверхів</th>\n",
       "      <th>рік збудови</th>\n",
       "      <th>площа</th>\n",
       "      <th>житлова площа</th>\n",
       "      <th>кухня</th>\n",
       "    </tr>\n",
       "  </thead>\n",
       "  <tbody>\n",
       "    <tr>\n",
       "      <th>0</th>\n",
       "      <td>NaN</td>\n",
       "      <td>NaN</td>\n",
       "      <td>NaN</td>\n",
       "      <td>NaN</td>\n",
       "      <td>NaN</td>\n",
       "      <td>NaN</td>\n",
       "      <td>NaN</td>\n",
       "      <td>NaN</td>\n",
       "      <td>NaN</td>\n",
       "    </tr>\n",
       "    <tr>\n",
       "      <th>1</th>\n",
       "      <td>140000.0</td>\n",
       "      <td>2.0</td>\n",
       "      <td>2258.0</td>\n",
       "      <td>7.0</td>\n",
       "      <td>9.0</td>\n",
       "      <td>1969.0</td>\n",
       "      <td>62.0</td>\n",
       "      <td>47.0</td>\n",
       "      <td>9.0</td>\n",
       "    </tr>\n",
       "    <tr>\n",
       "      <th>2</th>\n",
       "      <td>105000.0</td>\n",
       "      <td>4.0</td>\n",
       "      <td>847.0</td>\n",
       "      <td>25.0</td>\n",
       "      <td>26.0</td>\n",
       "      <td>2018.0</td>\n",
       "      <td>124.0</td>\n",
       "      <td>71.0</td>\n",
       "      <td>16.0</td>\n",
       "    </tr>\n",
       "  </tbody>\n",
       "</table>\n",
       "</div>"
      ],
      "text/plain": [
       "      ціна  кімнат  ціна за метр  поверх  всього поверхів  рік збудови  площа  \\\n",
       "0      NaN     NaN           NaN     NaN              NaN          NaN    NaN   \n",
       "1 140000.0     2.0        2258.0     7.0              9.0       1969.0   62.0   \n",
       "2 105000.0     4.0         847.0    25.0             26.0       2018.0  124.0   \n",
       "\n",
       "   житлова площа  кухня  \n",
       "0            NaN    NaN  \n",
       "1           47.0    9.0  \n",
       "2           71.0   16.0  "
      ]
     },
     "execution_count": 19,
     "metadata": {},
     "output_type": "execute_result"
    }
   ],
   "source": [
    "aprt.head(3)"
   ]
  },
  {
   "cell_type": "code",
   "execution_count": 20,
   "metadata": {
    "scrolled": true
   },
   "outputs": [
    {
     "name": "stdout",
     "output_type": "stream",
     "text": [
      "<class 'pandas.core.frame.DataFrame'>\n",
      "RangeIndex: 729 entries, 0 to 728\n",
      "Data columns (total 9 columns):\n",
      " #   Column           Non-Null Count  Dtype  \n",
      "---  ------           --------------  -----  \n",
      " 0   ціна             728 non-null    float64\n",
      " 1   кімнат           724 non-null    float64\n",
      " 2   ціна за метр     723 non-null    float64\n",
      " 3   поверх           703 non-null    float64\n",
      " 4   всього поверхів  703 non-null    float64\n",
      " 5   рік збудови      540 non-null    float64\n",
      " 6   площа            640 non-null    float64\n",
      " 7   житлова площа    497 non-null    float64\n",
      " 8   кухня            524 non-null    float64\n",
      "dtypes: float64(9)\n",
      "memory usage: 51.4 KB\n"
     ]
    }
   ],
   "source": [
    "aprt.info()"
   ]
  },
  {
   "cell_type": "code",
   "execution_count": 21,
   "metadata": {},
   "outputs": [
    {
     "data": {
      "text/html": [
       "<div>\n",
       "<style scoped>\n",
       "    .dataframe tbody tr th:only-of-type {\n",
       "        vertical-align: middle;\n",
       "    }\n",
       "\n",
       "    .dataframe tbody tr th {\n",
       "        vertical-align: top;\n",
       "    }\n",
       "\n",
       "    .dataframe thead th {\n",
       "        text-align: right;\n",
       "    }\n",
       "</style>\n",
       "<table border=\"1\" class=\"dataframe\">\n",
       "  <thead>\n",
       "    <tr style=\"text-align: right;\">\n",
       "      <th></th>\n",
       "      <th>ціна</th>\n",
       "      <th>кімнат</th>\n",
       "      <th>ціна за метр</th>\n",
       "      <th>поверх</th>\n",
       "      <th>всього поверхів</th>\n",
       "      <th>рік збудови</th>\n",
       "      <th>площа</th>\n",
       "      <th>житлова площа</th>\n",
       "      <th>кухня</th>\n",
       "    </tr>\n",
       "  </thead>\n",
       "  <tbody>\n",
       "    <tr>\n",
       "      <th>count</th>\n",
       "      <td>728.0</td>\n",
       "      <td>724.0</td>\n",
       "      <td>723.0</td>\n",
       "      <td>703.0</td>\n",
       "      <td>703.0</td>\n",
       "      <td>540.0</td>\n",
       "      <td>640.0</td>\n",
       "      <td>497.0</td>\n",
       "      <td>524.0</td>\n",
       "    </tr>\n",
       "    <tr>\n",
       "      <th>mean</th>\n",
       "      <td>200138.4</td>\n",
       "      <td>2.2</td>\n",
       "      <td>2090.3</td>\n",
       "      <td>9.6</td>\n",
       "      <td>17.7</td>\n",
       "      <td>1996.7</td>\n",
       "      <td>79.9</td>\n",
       "      <td>42.3</td>\n",
       "      <td>15.9</td>\n",
       "    </tr>\n",
       "    <tr>\n",
       "      <th>std</th>\n",
       "      <td>674893.9</td>\n",
       "      <td>1.0</td>\n",
       "      <td>5900.9</td>\n",
       "      <td>6.9</td>\n",
       "      <td>8.5</td>\n",
       "      <td>27.1</td>\n",
       "      <td>51.1</td>\n",
       "      <td>30.6</td>\n",
       "      <td>10.0</td>\n",
       "    </tr>\n",
       "    <tr>\n",
       "      <th>min</th>\n",
       "      <td>10092.1</td>\n",
       "      <td>1.0</td>\n",
       "      <td>478.0</td>\n",
       "      <td>1.0</td>\n",
       "      <td>2.0</td>\n",
       "      <td>1860.0</td>\n",
       "      <td>15.0</td>\n",
       "      <td>10.0</td>\n",
       "      <td>3.0</td>\n",
       "    </tr>\n",
       "    <tr>\n",
       "      <th>25%</th>\n",
       "      <td>65000.0</td>\n",
       "      <td>1.0</td>\n",
       "      <td>1147.0</td>\n",
       "      <td>4.0</td>\n",
       "      <td>9.0</td>\n",
       "      <td>1977.0</td>\n",
       "      <td>50.0</td>\n",
       "      <td>25.0</td>\n",
       "      <td>10.0</td>\n",
       "    </tr>\n",
       "    <tr>\n",
       "      <th>50%</th>\n",
       "      <td>103950.0</td>\n",
       "      <td>2.0</td>\n",
       "      <td>1562.0</td>\n",
       "      <td>8.0</td>\n",
       "      <td>19.0</td>\n",
       "      <td>2010.0</td>\n",
       "      <td>68.5</td>\n",
       "      <td>37.0</td>\n",
       "      <td>14.0</td>\n",
       "    </tr>\n",
       "    <tr>\n",
       "      <th>75%</th>\n",
       "      <td>170000.0</td>\n",
       "      <td>3.0</td>\n",
       "      <td>2188.0</td>\n",
       "      <td>14.0</td>\n",
       "      <td>25.0</td>\n",
       "      <td>2016.0</td>\n",
       "      <td>92.2</td>\n",
       "      <td>50.0</td>\n",
       "      <td>18.0</td>\n",
       "    </tr>\n",
       "    <tr>\n",
       "      <th>max</th>\n",
       "      <td>15700000.0</td>\n",
       "      <td>7.0</td>\n",
       "      <td>157000.0</td>\n",
       "      <td>33.0</td>\n",
       "      <td>47.0</td>\n",
       "      <td>2021.0</td>\n",
       "      <td>520.0</td>\n",
       "      <td>320.0</td>\n",
       "      <td>78.0</td>\n",
       "    </tr>\n",
       "  </tbody>\n",
       "</table>\n",
       "</div>"
      ],
      "text/plain": [
       "            ціна  кімнат  ціна за метр  поверх  всього поверхів  рік збудови  \\\n",
       "count      728.0   724.0         723.0   703.0            703.0        540.0   \n",
       "mean    200138.4     2.2        2090.3     9.6             17.7       1996.7   \n",
       "std     674893.9     1.0        5900.9     6.9              8.5         27.1   \n",
       "min      10092.1     1.0         478.0     1.0              2.0       1860.0   \n",
       "25%      65000.0     1.0        1147.0     4.0              9.0       1977.0   \n",
       "50%     103950.0     2.0        1562.0     8.0             19.0       2010.0   \n",
       "75%     170000.0     3.0        2188.0    14.0             25.0       2016.0   \n",
       "max   15700000.0     7.0      157000.0    33.0             47.0       2021.0   \n",
       "\n",
       "       площа  житлова площа  кухня  \n",
       "count  640.0          497.0  524.0  \n",
       "mean    79.9           42.3   15.9  \n",
       "std     51.1           30.6   10.0  \n",
       "min     15.0           10.0    3.0  \n",
       "25%     50.0           25.0   10.0  \n",
       "50%     68.5           37.0   14.0  \n",
       "75%     92.2           50.0   18.0  \n",
       "max    520.0          320.0   78.0  "
      ]
     },
     "execution_count": 21,
     "metadata": {},
     "output_type": "execute_result"
    }
   ],
   "source": [
    "aprt.describe()"
   ]
  },
  {
   "cell_type": "markdown",
   "metadata": {},
   "source": [
    "#### відновлення пропущених даних"
   ]
  },
  {
   "cell_type": "markdown",
   "metadata": {},
   "source": [
    "__Методи, що використовуються для відновлення даних:__\n",
    "1. Вилучення пропущених даних\n",
    "2. Заповнення пропущених даних обрахованим статистичним показчиком або константою\n",
    "3. [Інтерполяція пропущених даних](https://www.geeksforgeeks.org/python-pandas-dataframe-interpolate/)\n",
    "4. Використання моделей ML та DL для прогнозування пропущених даних"
   ]
  },
  {
   "cell_type": "code",
   "execution_count": 22,
   "metadata": {},
   "outputs": [
    {
     "name": "stdout",
     "output_type": "stream",
     "text": [
      "<class 'pandas.core.frame.DataFrame'>\n",
      "RangeIndex: 729 entries, 0 to 728\n",
      "Data columns (total 9 columns):\n",
      " #   Column           Non-Null Count  Dtype  \n",
      "---  ------           --------------  -----  \n",
      " 0   ціна             728 non-null    float64\n",
      " 1   кімнат           724 non-null    float64\n",
      " 2   ціна за метр     723 non-null    float64\n",
      " 3   поверх           703 non-null    float64\n",
      " 4   всього поверхів  703 non-null    float64\n",
      " 5   рік збудови      540 non-null    float64\n",
      " 6   площа            640 non-null    float64\n",
      " 7   житлова площа    497 non-null    float64\n",
      " 8   кухня            524 non-null    float64\n",
      "dtypes: float64(9)\n",
      "memory usage: 51.4 KB\n"
     ]
    }
   ],
   "source": [
    "# статистика пропущених даних\n",
    "# в табличній формі\n",
    "aprt.info()"
   ]
  },
  {
   "cell_type": "code",
   "execution_count": 23,
   "metadata": {
    "run_control": {
     "marked": false
    }
   },
   "outputs": [
    {
     "data": {
      "image/png": "[encoded data removed]",
      "text/plain": [
       "<Figure size 640x480 with 1 Axes>"
      ]
     },
     "metadata": {},
     "output_type": "display_data"
    }
   ],
   "source": [
    "# або в графічній формі\n",
    "plt.bar(aprt.columns, aprt.count())\n",
    "plt.ylabel(\"кількість заповнених значень\")\n",
    "plt.xticks(rotation='vertical')\n",
    "plt.title('Графік не пустих значень')\n",
    "plt.show()"
   ]
  },
  {
   "cell_type": "code",
   "execution_count": 24,
   "metadata": {},
   "outputs": [],
   "source": [
    "missing_data_mask = aprt.isna()"
   ]
  },
  {
   "cell_type": "code",
   "execution_count": 25,
   "metadata": {
    "scrolled": true
   },
   "outputs": [
    {
     "data": {
      "text/html": [
       "<div>\n",
       "<style scoped>\n",
       "    .dataframe tbody tr th:only-of-type {\n",
       "        vertical-align: middle;\n",
       "    }\n",
       "\n",
       "    .dataframe tbody tr th {\n",
       "        vertical-align: top;\n",
       "    }\n",
       "\n",
       "    .dataframe thead th {\n",
       "        text-align: right;\n",
       "    }\n",
       "</style>\n",
       "<table border=\"1\" class=\"dataframe\">\n",
       "  <thead>\n",
       "    <tr style=\"text-align: right;\">\n",
       "      <th></th>\n",
       "      <th>ціна</th>\n",
       "      <th>кімнат</th>\n",
       "      <th>ціна за метр</th>\n",
       "      <th>поверх</th>\n",
       "      <th>всього поверхів</th>\n",
       "      <th>рік збудови</th>\n",
       "      <th>площа</th>\n",
       "      <th>житлова площа</th>\n",
       "      <th>кухня</th>\n",
       "    </tr>\n",
       "  </thead>\n",
       "  <tbody>\n",
       "    <tr>\n",
       "      <th>0</th>\n",
       "      <td>True</td>\n",
       "      <td>True</td>\n",
       "      <td>True</td>\n",
       "      <td>True</td>\n",
       "      <td>True</td>\n",
       "      <td>True</td>\n",
       "      <td>True</td>\n",
       "      <td>True</td>\n",
       "      <td>True</td>\n",
       "    </tr>\n",
       "    <tr>\n",
       "      <th>1</th>\n",
       "      <td>False</td>\n",
       "      <td>False</td>\n",
       "      <td>False</td>\n",
       "      <td>False</td>\n",
       "      <td>False</td>\n",
       "      <td>False</td>\n",
       "      <td>False</td>\n",
       "      <td>False</td>\n",
       "      <td>False</td>\n",
       "    </tr>\n",
       "    <tr>\n",
       "      <th>2</th>\n",
       "      <td>False</td>\n",
       "      <td>False</td>\n",
       "      <td>False</td>\n",
       "      <td>False</td>\n",
       "      <td>False</td>\n",
       "      <td>False</td>\n",
       "      <td>False</td>\n",
       "      <td>False</td>\n",
       "      <td>False</td>\n",
       "    </tr>\n",
       "    <tr>\n",
       "      <th>3</th>\n",
       "      <td>False</td>\n",
       "      <td>False</td>\n",
       "      <td>False</td>\n",
       "      <td>False</td>\n",
       "      <td>False</td>\n",
       "      <td>False</td>\n",
       "      <td>False</td>\n",
       "      <td>True</td>\n",
       "      <td>True</td>\n",
       "    </tr>\n",
       "    <tr>\n",
       "      <th>4</th>\n",
       "      <td>False</td>\n",
       "      <td>False</td>\n",
       "      <td>False</td>\n",
       "      <td>False</td>\n",
       "      <td>False</td>\n",
       "      <td>False</td>\n",
       "      <td>False</td>\n",
       "      <td>False</td>\n",
       "      <td>False</td>\n",
       "    </tr>\n",
       "  </tbody>\n",
       "</table>\n",
       "</div>"
      ],
      "text/plain": [
       "    ціна  кімнат  ціна за метр  поверх  всього поверхів  рік збудови  площа  \\\n",
       "0   True    True          True    True             True         True   True   \n",
       "1  False   False         False   False            False        False  False   \n",
       "2  False   False         False   False            False        False  False   \n",
       "3  False   False         False   False            False        False  False   \n",
       "4  False   False         False   False            False        False  False   \n",
       "\n",
       "   житлова площа  кухня  \n",
       "0           True   True  \n",
       "1          False  False  \n",
       "2          False  False  \n",
       "3           True   True  \n",
       "4          False  False  "
      ]
     },
     "execution_count": 25,
     "metadata": {},
     "output_type": "execute_result"
    }
   ],
   "source": [
    "missing_data_mask.head(5)"
   ]
  },
  {
   "cell_type": "code",
   "execution_count": 26,
   "metadata": {},
   "outputs": [],
   "source": [
    "# частка пропущених даних\n",
    "missing_fruction = missing_data_mask.sum(axis=1)/len(aprt.columns)"
   ]
  },
  {
   "cell_type": "code",
   "execution_count": 27,
   "metadata": {},
   "outputs": [
    {
     "data": {
      "text/plain": [
       "729"
      ]
     },
     "execution_count": 27,
     "metadata": {},
     "output_type": "execute_result"
    }
   ],
   "source": [
    "len(missing_fruction)"
   ]
  },
  {
   "cell_type": "code",
   "execution_count": 28,
   "metadata": {},
   "outputs": [
    {
     "data": {
      "text/plain": [
       "0   1.0\n",
       "1   0.0\n",
       "2   0.0\n",
       "3   0.2\n",
       "4   0.0\n",
       "5   0.3\n",
       "6   0.0\n",
       "7   0.2\n",
       "8   0.0\n",
       "9   0.0\n",
       "dtype: float64"
      ]
     },
     "execution_count": 28,
     "metadata": {},
     "output_type": "execute_result"
    }
   ],
   "source": [
    "missing_fruction.head(10)"
   ]
  },
  {
   "cell_type": "code",
   "execution_count": 29,
   "metadata": {
    "scrolled": true
   },
   "outputs": [],
   "source": [
    "# вилученя рядків що містять 5 або більше відсутніх показчиків\n",
    "aprt.dropna(thresh=5, inplace=True)"
   ]
  },
  {
   "cell_type": "code",
   "execution_count": 30,
   "metadata": {},
   "outputs": [
    {
     "name": "stdout",
     "output_type": "stream",
     "text": [
      "<class 'pandas.core.frame.DataFrame'>\n",
      "Int64Index: 706 entries, 1 to 728\n",
      "Data columns (total 9 columns):\n",
      " #   Column           Non-Null Count  Dtype  \n",
      "---  ------           --------------  -----  \n",
      " 0   ціна             706 non-null    float64\n",
      " 1   кімнат           704 non-null    float64\n",
      " 2   ціна за метр     705 non-null    float64\n",
      " 3   поверх           703 non-null    float64\n",
      " 4   всього поверхів  703 non-null    float64\n",
      " 5   рік збудови      539 non-null    float64\n",
      " 6   площа            623 non-null    float64\n",
      " 7   житлова площа    497 non-null    float64\n",
      " 8   кухня            524 non-null    float64\n",
      "dtypes: float64(9)\n",
      "memory usage: 55.2 KB\n"
     ]
    }
   ],
   "source": [
    "aprt.info()"
   ]
  },
  {
   "cell_type": "code",
   "execution_count": 31,
   "metadata": {},
   "outputs": [
    {
     "data": {
      "text/plain": [
       "ціна              195986.3\n",
       "кімнат                 2.2\n",
       "ціна за метр        2066.1\n",
       "поверх                 9.6\n",
       "всього поверхів       17.7\n",
       "рік збудови         1996.7\n",
       "площа                 79.6\n",
       "житлова площа         42.3\n",
       "кухня                 15.9\n",
       "dtype: float64"
      ]
     },
     "execution_count": 31,
     "metadata": {},
     "output_type": "execute_result"
    }
   ],
   "source": [
    "aprt.mean(axis=0)"
   ]
  },
  {
   "cell_type": "code",
   "execution_count": 32,
   "metadata": {},
   "outputs": [
    {
     "data": {
      "text/plain": [
       "ціна              101250.0\n",
       "кімнат                 2.0\n",
       "ціна за метр        1550.0\n",
       "поверх                 8.0\n",
       "всього поверхів       19.0\n",
       "рік збудови         2010.0\n",
       "площа                 69.0\n",
       "житлова площа         37.0\n",
       "кухня                 14.0\n",
       "dtype: float64"
      ]
     },
     "execution_count": 32,
     "metadata": {},
     "output_type": "execute_result"
    }
   ],
   "source": [
    "aprt.median(axis=0)"
   ]
  },
  {
   "cell_type": "code",
   "execution_count": 33,
   "metadata": {},
   "outputs": [
    {
     "data": {
      "text/html": [
       "<div>\n",
       "<style scoped>\n",
       "    .dataframe tbody tr th:only-of-type {\n",
       "        vertical-align: middle;\n",
       "    }\n",
       "\n",
       "    .dataframe tbody tr th {\n",
       "        vertical-align: top;\n",
       "    }\n",
       "\n",
       "    .dataframe thead th {\n",
       "        text-align: right;\n",
       "    }\n",
       "</style>\n",
       "<table border=\"1\" class=\"dataframe\">\n",
       "  <thead>\n",
       "    <tr style=\"text-align: right;\">\n",
       "      <th></th>\n",
       "      <th>Mean</th>\n",
       "      <th>Median</th>\n",
       "      <th>Std</th>\n",
       "      <th>Mean - Std</th>\n",
       "    </tr>\n",
       "  </thead>\n",
       "  <tbody>\n",
       "    <tr>\n",
       "      <th>ціна</th>\n",
       "      <td>195986.3</td>\n",
       "      <td>101250.0</td>\n",
       "      <td>681978.0</td>\n",
       "      <td>-485991.7</td>\n",
       "    </tr>\n",
       "    <tr>\n",
       "      <th>кімнат</th>\n",
       "      <td>2.2</td>\n",
       "      <td>2.0</td>\n",
       "      <td>1.0</td>\n",
       "      <td>1.2</td>\n",
       "    </tr>\n",
       "    <tr>\n",
       "      <th>ціна за метр</th>\n",
       "      <td>2066.1</td>\n",
       "      <td>1550.0</td>\n",
       "      <td>5968.9</td>\n",
       "      <td>-3902.8</td>\n",
       "    </tr>\n",
       "    <tr>\n",
       "      <th>поверх</th>\n",
       "      <td>9.6</td>\n",
       "      <td>8.0</td>\n",
       "      <td>6.9</td>\n",
       "      <td>2.7</td>\n",
       "    </tr>\n",
       "    <tr>\n",
       "      <th>всього поверхів</th>\n",
       "      <td>17.7</td>\n",
       "      <td>19.0</td>\n",
       "      <td>8.5</td>\n",
       "      <td>9.2</td>\n",
       "    </tr>\n",
       "    <tr>\n",
       "      <th>рік збудови</th>\n",
       "      <td>1996.7</td>\n",
       "      <td>2010.0</td>\n",
       "      <td>27.2</td>\n",
       "      <td>1969.5</td>\n",
       "    </tr>\n",
       "    <tr>\n",
       "      <th>площа</th>\n",
       "      <td>79.6</td>\n",
       "      <td>69.0</td>\n",
       "      <td>50.5</td>\n",
       "      <td>29.2</td>\n",
       "    </tr>\n",
       "    <tr>\n",
       "      <th>житлова площа</th>\n",
       "      <td>42.3</td>\n",
       "      <td>37.0</td>\n",
       "      <td>30.6</td>\n",
       "      <td>11.7</td>\n",
       "    </tr>\n",
       "    <tr>\n",
       "      <th>кухня</th>\n",
       "      <td>15.9</td>\n",
       "      <td>14.0</td>\n",
       "      <td>10.0</td>\n",
       "      <td>5.8</td>\n",
       "    </tr>\n",
       "  </tbody>\n",
       "</table>\n",
       "</div>"
      ],
      "text/plain": [
       "                    Mean   Median      Std  Mean - Std\n",
       "ціна            195986.3 101250.0 681978.0   -485991.7\n",
       "кімнат               2.2      2.0      1.0         1.2\n",
       "ціна за метр      2066.1   1550.0   5968.9     -3902.8\n",
       "поверх               9.6      8.0      6.9         2.7\n",
       "всього поверхів     17.7     19.0      8.5         9.2\n",
       "рік збудови       1996.7   2010.0     27.2      1969.5\n",
       "площа               79.6     69.0     50.5        29.2\n",
       "житлова площа       42.3     37.0     30.6        11.7\n",
       "кухня               15.9     14.0     10.0         5.8"
      ]
     },
     "execution_count": 33,
     "metadata": {},
     "output_type": "execute_result"
    }
   ],
   "source": [
    "# вибір заповнювача - побудуємо допоміжний датафрейм\n",
    "pd.DataFrame(data={\"Mean\"      : aprt.mean(axis=0),\n",
    "                   \"Median\"    : aprt.median(axis=0),\n",
    "                   \"Std\"       : aprt.std(axis=0),\n",
    "                   \"Mean - Std\": aprt.mean(axis=0) - aprt.std(axis=0)} )"
   ]
  },
  {
   "cell_type": "code",
   "execution_count": 34,
   "metadata": {},
   "outputs": [],
   "source": [
    "# заповнити пропущені дані медіаной відповідного показчика\n",
    "aprt.fillna(aprt.median(), axis=0, inplace=True)"
   ]
  },
  {
   "cell_type": "code",
   "execution_count": 35,
   "metadata": {},
   "outputs": [
    {
     "name": "stdout",
     "output_type": "stream",
     "text": [
      "<class 'pandas.core.frame.DataFrame'>\n",
      "Int64Index: 706 entries, 1 to 728\n",
      "Data columns (total 9 columns):\n",
      " #   Column           Non-Null Count  Dtype  \n",
      "---  ------           --------------  -----  \n",
      " 0   ціна             706 non-null    float64\n",
      " 1   кімнат           706 non-null    float64\n",
      " 2   ціна за метр     706 non-null    float64\n",
      " 3   поверх           706 non-null    float64\n",
      " 4   всього поверхів  706 non-null    float64\n",
      " 5   рік збудови      706 non-null    float64\n",
      " 6   площа            706 non-null    float64\n",
      " 7   житлова площа    706 non-null    float64\n",
      " 8   кухня            706 non-null    float64\n",
      "dtypes: float64(9)\n",
      "memory usage: 55.2 KB\n"
     ]
    }
   ],
   "source": [
    "aprt.info()"
   ]
  },
  {
   "cell_type": "markdown",
   "metadata": {},
   "source": [
    "#### виявленя аномалій в даних"
   ]
  },
  {
   "cell_type": "code",
   "execution_count": 36,
   "metadata": {
    "scrolled": true
   },
   "outputs": [
    {
     "data": {
      "text/html": [
       "<div>\n",
       "<style scoped>\n",
       "    .dataframe tbody tr th:only-of-type {\n",
       "        vertical-align: middle;\n",
       "    }\n",
       "\n",
       "    .dataframe tbody tr th {\n",
       "        vertical-align: top;\n",
       "    }\n",
       "\n",
       "    .dataframe thead th {\n",
       "        text-align: right;\n",
       "    }\n",
       "</style>\n",
       "<table border=\"1\" class=\"dataframe\">\n",
       "  <thead>\n",
       "    <tr style=\"text-align: right;\">\n",
       "      <th></th>\n",
       "      <th>ціна</th>\n",
       "      <th>кімнат</th>\n",
       "      <th>ціна за метр</th>\n",
       "      <th>поверх</th>\n",
       "      <th>всього поверхів</th>\n",
       "      <th>рік збудови</th>\n",
       "      <th>площа</th>\n",
       "      <th>житлова площа</th>\n",
       "      <th>кухня</th>\n",
       "    </tr>\n",
       "  </thead>\n",
       "  <tbody>\n",
       "    <tr>\n",
       "      <th>count</th>\n",
       "      <td>706.0</td>\n",
       "      <td>706.0</td>\n",
       "      <td>706.0</td>\n",
       "      <td>706.0</td>\n",
       "      <td>706.0</td>\n",
       "      <td>706.0</td>\n",
       "      <td>706.0</td>\n",
       "      <td>706.0</td>\n",
       "      <td>706.0</td>\n",
       "    </tr>\n",
       "    <tr>\n",
       "      <th>mean</th>\n",
       "      <td>195986.3</td>\n",
       "      <td>2.2</td>\n",
       "      <td>2065.4</td>\n",
       "      <td>9.6</td>\n",
       "      <td>17.7</td>\n",
       "      <td>1999.8</td>\n",
       "      <td>78.4</td>\n",
       "      <td>40.7</td>\n",
       "      <td>15.4</td>\n",
       "    </tr>\n",
       "    <tr>\n",
       "      <th>std</th>\n",
       "      <td>681978.0</td>\n",
       "      <td>1.0</td>\n",
       "      <td>5964.7</td>\n",
       "      <td>6.9</td>\n",
       "      <td>8.4</td>\n",
       "      <td>24.4</td>\n",
       "      <td>47.5</td>\n",
       "      <td>25.8</td>\n",
       "      <td>8.7</td>\n",
       "    </tr>\n",
       "    <tr>\n",
       "      <th>min</th>\n",
       "      <td>29256.6</td>\n",
       "      <td>1.0</td>\n",
       "      <td>478.0</td>\n",
       "      <td>1.0</td>\n",
       "      <td>2.0</td>\n",
       "      <td>1860.0</td>\n",
       "      <td>25.0</td>\n",
       "      <td>10.0</td>\n",
       "      <td>3.0</td>\n",
       "    </tr>\n",
       "    <tr>\n",
       "      <th>25%</th>\n",
       "      <td>65000.0</td>\n",
       "      <td>1.0</td>\n",
       "      <td>1146.6</td>\n",
       "      <td>4.0</td>\n",
       "      <td>9.0</td>\n",
       "      <td>1994.0</td>\n",
       "      <td>53.0</td>\n",
       "      <td>30.0</td>\n",
       "      <td>11.0</td>\n",
       "    </tr>\n",
       "    <tr>\n",
       "      <th>50%</th>\n",
       "      <td>101250.0</td>\n",
       "      <td>2.0</td>\n",
       "      <td>1550.0</td>\n",
       "      <td>8.0</td>\n",
       "      <td>19.0</td>\n",
       "      <td>2010.0</td>\n",
       "      <td>69.0</td>\n",
       "      <td>37.0</td>\n",
       "      <td>14.0</td>\n",
       "    </tr>\n",
       "    <tr>\n",
       "      <th>75%</th>\n",
       "      <td>165750.0</td>\n",
       "      <td>3.0</td>\n",
       "      <td>2140.0</td>\n",
       "      <td>14.0</td>\n",
       "      <td>25.0</td>\n",
       "      <td>2015.0</td>\n",
       "      <td>89.0</td>\n",
       "      <td>44.0</td>\n",
       "      <td>16.0</td>\n",
       "    </tr>\n",
       "    <tr>\n",
       "      <th>max</th>\n",
       "      <td>15700000.0</td>\n",
       "      <td>7.0</td>\n",
       "      <td>157000.0</td>\n",
       "      <td>33.0</td>\n",
       "      <td>47.0</td>\n",
       "      <td>2021.0</td>\n",
       "      <td>520.0</td>\n",
       "      <td>320.0</td>\n",
       "      <td>78.0</td>\n",
       "    </tr>\n",
       "  </tbody>\n",
       "</table>\n",
       "</div>"
      ],
      "text/plain": [
       "            ціна  кімнат  ціна за метр  поверх  всього поверхів  рік збудови  \\\n",
       "count      706.0   706.0         706.0   706.0            706.0        706.0   \n",
       "mean    195986.3     2.2        2065.4     9.6             17.7       1999.8   \n",
       "std     681978.0     1.0        5964.7     6.9              8.4         24.4   \n",
       "min      29256.6     1.0         478.0     1.0              2.0       1860.0   \n",
       "25%      65000.0     1.0        1146.6     4.0              9.0       1994.0   \n",
       "50%     101250.0     2.0        1550.0     8.0             19.0       2010.0   \n",
       "75%     165750.0     3.0        2140.0    14.0             25.0       2015.0   \n",
       "max   15700000.0     7.0      157000.0    33.0             47.0       2021.0   \n",
       "\n",
       "       площа  житлова площа  кухня  \n",
       "count  706.0          706.0  706.0  \n",
       "mean    78.4           40.7   15.4  \n",
       "std     47.5           25.8    8.7  \n",
       "min     25.0           10.0    3.0  \n",
       "25%     53.0           30.0   11.0  \n",
       "50%     69.0           37.0   14.0  \n",
       "75%     89.0           44.0   16.0  \n",
       "max    520.0          320.0   78.0  "
      ]
     },
     "execution_count": 36,
     "metadata": {},
     "output_type": "execute_result"
    }
   ],
   "source": [
    "# аналітични метод\n",
    "aprt.describe()"
   ]
  },
  {
   "cell_type": "code",
   "execution_count": 37,
   "metadata": {},
   "outputs": [],
   "source": [
    "# графічний метод\n",
    "import matplotlib.pyplot as plt"
   ]
  },
  {
   "cell_type": "code",
   "execution_count": 38,
   "metadata": {
    "scrolled": true
   },
   "outputs": [
    {
     "data": {
      "image/png": "[encoded data removed]",
      "text/plain": [
       "<Figure size 640x480 with 1 Axes>"
      ]
     },
     "metadata": {},
     "output_type": "display_data"
    }
   ],
   "source": [
    "# plt.figure(figsize=(7,7))\n",
    "plt.plot(aprt['кухня'], '.')\n",
    "plt.title('пошук аномалій в показчику')\n",
    "plt.xlabel('рядки датасету')\n",
    "plt.ylabel('м2')\n",
    "plt.show()"
   ]
  },
  {
   "cell_type": "code",
   "execution_count": 39,
   "metadata": {
    "scrolled": true
   },
   "outputs": [
    {
     "data": {
      "text/html": [
       "<div>\n",
       "<style scoped>\n",
       "    .dataframe tbody tr th:only-of-type {\n",
       "        vertical-align: middle;\n",
       "    }\n",
       "\n",
       "    .dataframe tbody tr th {\n",
       "        vertical-align: top;\n",
       "    }\n",
       "\n",
       "    .dataframe thead th {\n",
       "        text-align: right;\n",
       "    }\n",
       "</style>\n",
       "<table border=\"1\" class=\"dataframe\">\n",
       "  <thead>\n",
       "    <tr style=\"text-align: right;\">\n",
       "      <th></th>\n",
       "      <th>ціна</th>\n",
       "      <th>кімнат</th>\n",
       "      <th>ціна за метр</th>\n",
       "      <th>поверх</th>\n",
       "      <th>всього поверхів</th>\n",
       "      <th>рік збудови</th>\n",
       "      <th>площа</th>\n",
       "      <th>житлова площа</th>\n",
       "      <th>кухня</th>\n",
       "    </tr>\n",
       "  </thead>\n",
       "  <tbody>\n",
       "    <tr>\n",
       "      <th>1</th>\n",
       "      <td>140000.0</td>\n",
       "      <td>2.0</td>\n",
       "      <td>2258.0</td>\n",
       "      <td>7.0</td>\n",
       "      <td>9.0</td>\n",
       "      <td>1969.0</td>\n",
       "      <td>62.0</td>\n",
       "      <td>47.0</td>\n",
       "      <td>9.0</td>\n",
       "    </tr>\n",
       "    <tr>\n",
       "      <th>2</th>\n",
       "      <td>105000.0</td>\n",
       "      <td>4.0</td>\n",
       "      <td>847.0</td>\n",
       "      <td>25.0</td>\n",
       "      <td>26.0</td>\n",
       "      <td>2018.0</td>\n",
       "      <td>124.0</td>\n",
       "      <td>71.0</td>\n",
       "      <td>16.0</td>\n",
       "    </tr>\n",
       "    <tr>\n",
       "      <th>3</th>\n",
       "      <td>175000.0</td>\n",
       "      <td>3.0</td>\n",
       "      <td>1786.0</td>\n",
       "      <td>25.0</td>\n",
       "      <td>26.0</td>\n",
       "      <td>2010.0</td>\n",
       "      <td>98.0</td>\n",
       "      <td>37.0</td>\n",
       "      <td>14.0</td>\n",
       "    </tr>\n",
       "    <tr>\n",
       "      <th>4</th>\n",
       "      <td>30970.0</td>\n",
       "      <td>1.0</td>\n",
       "      <td>1106.0</td>\n",
       "      <td>12.0</td>\n",
       "      <td>13.0</td>\n",
       "      <td>2013.0</td>\n",
       "      <td>28.0</td>\n",
       "      <td>13.0</td>\n",
       "      <td>5.0</td>\n",
       "    </tr>\n",
       "    <tr>\n",
       "      <th>5</th>\n",
       "      <td>82000.0</td>\n",
       "      <td>2.0</td>\n",
       "      <td>1281.0</td>\n",
       "      <td>18.0</td>\n",
       "      <td>26.0</td>\n",
       "      <td>2010.0</td>\n",
       "      <td>64.0</td>\n",
       "      <td>37.0</td>\n",
       "      <td>14.0</td>\n",
       "    </tr>\n",
       "  </tbody>\n",
       "</table>\n",
       "</div>"
      ],
      "text/plain": [
       "      ціна  кімнат  ціна за метр  поверх  всього поверхів  рік збудови  площа  \\\n",
       "1 140000.0     2.0        2258.0     7.0              9.0       1969.0   62.0   \n",
       "2 105000.0     4.0         847.0    25.0             26.0       2018.0  124.0   \n",
       "3 175000.0     3.0        1786.0    25.0             26.0       2010.0   98.0   \n",
       "4  30970.0     1.0        1106.0    12.0             13.0       2013.0   28.0   \n",
       "5  82000.0     2.0        1281.0    18.0             26.0       2010.0   64.0   \n",
       "\n",
       "   житлова площа  кухня  \n",
       "1           47.0    9.0  \n",
       "2           71.0   16.0  \n",
       "3           37.0   14.0  \n",
       "4           13.0    5.0  \n",
       "5           37.0   14.0  "
      ]
     },
     "execution_count": 39,
     "metadata": {},
     "output_type": "execute_result"
    }
   ],
   "source": [
    "aprt.head()"
   ]
  },
  {
   "cell_type": "code",
   "execution_count": 40,
   "metadata": {
    "code_folding": []
   },
   "outputs": [
    {
     "data": {
      "image/png": "[encoded data removed]",
      "text/plain": [
       "<Figure size 1500x1500 with 9 Axes>"
      ]
     },
     "metadata": {},
     "output_type": "display_data"
    }
   ],
   "source": [
    "# загальна аналітика аномалій по датасету\n",
    "fig, axs = plt.subplots(3,3, figsize=(15,15))\n",
    "\n",
    "for ax, name in list(zip(axs.reshape(9,), aprt.columns)):\n",
    "    ax.set_title(name)\n",
    "\n",
    "axs[0,0].plot(aprt['ціна'], '.')\n",
    "axs[0,1].plot(aprt['кімнат'], '.')\n",
    "axs[0,2].plot(aprt['ціна за метр'], '.')\n",
    "\n",
    "axs[1,0].plot(aprt['поверх'], '.')\n",
    "axs[1,1].plot(aprt['всього поверхів'], '.')\n",
    "axs[1,2].plot(aprt['рік збудови'], '.')\n",
    "\n",
    "axs[2,0].plot(aprt['площа'], '.')\n",
    "axs[2,1].plot(aprt['житлова площа'], '.')\n",
    "axs[2,2].plot(aprt['кухня'], '.')\n",
    "\n",
    "plt.show()\n"
   ]
  },
  {
   "cell_type": "code",
   "execution_count": 41,
   "metadata": {
    "scrolled": true
   },
   "outputs": [
    {
     "data": {
      "text/html": [
       "<div>\n",
       "<style scoped>\n",
       "    .dataframe tbody tr th:only-of-type {\n",
       "        vertical-align: middle;\n",
       "    }\n",
       "\n",
       "    .dataframe tbody tr th {\n",
       "        vertical-align: top;\n",
       "    }\n",
       "\n",
       "    .dataframe thead th {\n",
       "        text-align: right;\n",
       "    }\n",
       "</style>\n",
       "<table border=\"1\" class=\"dataframe\">\n",
       "  <thead>\n",
       "    <tr style=\"text-align: right;\">\n",
       "      <th></th>\n",
       "      <th>ціна</th>\n",
       "      <th>кімнат</th>\n",
       "      <th>ціна за метр</th>\n",
       "      <th>поверх</th>\n",
       "      <th>всього поверхів</th>\n",
       "      <th>рік збудови</th>\n",
       "      <th>площа</th>\n",
       "      <th>житлова площа</th>\n",
       "      <th>кухня</th>\n",
       "    </tr>\n",
       "  </thead>\n",
       "  <tbody>\n",
       "    <tr>\n",
       "      <th>530</th>\n",
       "      <td>15700000.0</td>\n",
       "      <td>3.0</td>\n",
       "      <td>157000.0</td>\n",
       "      <td>2.0</td>\n",
       "      <td>4.0</td>\n",
       "      <td>1917.0</td>\n",
       "      <td>100.0</td>\n",
       "      <td>76.0</td>\n",
       "      <td>12.0</td>\n",
       "    </tr>\n",
       "  </tbody>\n",
       "</table>\n",
       "</div>"
      ],
      "text/plain": [
       "          ціна  кімнат  ціна за метр  поверх  всього поверхів  рік збудови  \\\n",
       "530 15700000.0     3.0      157000.0     2.0              4.0       1917.0   \n",
       "\n",
       "     площа  житлова площа  кухня  \n",
       "530  100.0           76.0   12.0  "
      ]
     },
     "execution_count": 41,
     "metadata": {},
     "output_type": "execute_result"
    }
   ],
   "source": [
    "aprt[aprt['ціна'] == 15700000.0]"
   ]
  },
  {
   "cell_type": "code",
   "execution_count": 42,
   "metadata": {
    "scrolled": true
   },
   "outputs": [
    {
     "data": {
      "text/html": [
       "<div>\n",
       "<style scoped>\n",
       "    .dataframe tbody tr th:only-of-type {\n",
       "        vertical-align: middle;\n",
       "    }\n",
       "\n",
       "    .dataframe tbody tr th {\n",
       "        vertical-align: top;\n",
       "    }\n",
       "\n",
       "    .dataframe thead th {\n",
       "        text-align: right;\n",
       "    }\n",
       "</style>\n",
       "<table border=\"1\" class=\"dataframe\">\n",
       "  <thead>\n",
       "    <tr style=\"text-align: right;\">\n",
       "      <th></th>\n",
       "      <th>ціна</th>\n",
       "      <th>кімнат</th>\n",
       "      <th>ціна за метр</th>\n",
       "      <th>поверх</th>\n",
       "      <th>всього поверхів</th>\n",
       "      <th>рік збудови</th>\n",
       "      <th>площа</th>\n",
       "      <th>житлова площа</th>\n",
       "      <th>кухня</th>\n",
       "    </tr>\n",
       "  </thead>\n",
       "  <tbody>\n",
       "    <tr>\n",
       "      <th>366</th>\n",
       "      <td>1035900.0</td>\n",
       "      <td>5.0</td>\n",
       "      <td>4504.0</td>\n",
       "      <td>4.0</td>\n",
       "      <td>8.0</td>\n",
       "      <td>2016.0</td>\n",
       "      <td>230.0</td>\n",
       "      <td>75.0</td>\n",
       "      <td>78.0</td>\n",
       "    </tr>\n",
       "  </tbody>\n",
       "</table>\n",
       "</div>"
      ],
      "text/plain": [
       "         ціна  кімнат  ціна за метр  поверх  всього поверхів  рік збудови  \\\n",
       "366 1035900.0     5.0        4504.0     4.0              8.0       2016.0   \n",
       "\n",
       "     площа  житлова площа  кухня  \n",
       "366  230.0           75.0   78.0  "
      ]
     },
     "execution_count": 42,
     "metadata": {},
     "output_type": "execute_result"
    }
   ],
   "source": [
    "aprt[aprt['кухня'] == 78]"
   ]
  },
  {
   "cell_type": "code",
   "execution_count": null,
   "metadata": {},
   "outputs": [],
   "source": []
  }
 ],
 "metadata": {
  "kernelspec": {
   "display_name": "Python 3 (ipykernel)",
   "language": "python",
   "name": "python3"
  },
  "language_info": {
   "codemirror_mode": {
    "name": "ipython",
    "version": 3
   },
   "file_extension": ".py",
   "mimetype": "text/x-python",
   "name": "python",
   "nbconvert_exporter": "python",
   "pygments_lexer": "ipython3",
   "version": "3.9.13"
  },
  "varInspector": {
   "cols": {
    "lenName": 16,
    "lenType": 16,
    "lenVar": 40
   },
   "kernels_config": {
    "python": {
     "delete_cmd_postfix": "",
     "delete_cmd_prefix": "del ",
     "library": "var_list.py",
     "varRefreshCmd": "print(var_dic_list())"
    },
    "r": {
     "delete_cmd_postfix": ") ",
     "delete_cmd_prefix": "rm(",
     "library": "var_list.r",
     "varRefreshCmd": "cat(var_dic_list()) "
    }
   },
   "types_to_exclude": [
    "module",
    "function",
    "builtin_function_or_method",
    "instance",
    "_Feature"
   ],
   "window_display": false
  }
 },
 "nbformat": 4,
 "nbformat_minor": 2
}
